{
  "nbformat": 4,
  "nbformat_minor": 0,
  "metadata": {
    "colab": {
      "private_outputs": true,
      "provenance": [],
      "gpuType": "T4",
      "authorship_tag": "ABX9TyMAhBBYTx17FCKPa9dNlfO3",
      "include_colab_link": true
    },
    "kernelspec": {
      "name": "python3",
      "display_name": "Python 3"
    },
    "language_info": {
      "name": "python"
    },
    "accelerator": "GPU"
  },
  "cells": [
    {
      "cell_type": "markdown",
      "metadata": {
        "id": "view-in-github",
        "colab_type": "text"
      },
      "source": [
        "<a href=\"https://colab.research.google.com/github/makhmudovamunira/Yuzdagi-niqobni-aniqlash/blob/main/Web_camera.ipynb\" target=\"_parent\"><img src=\"https://colab.research.google.com/assets/colab-badge.svg\" alt=\"Open In Colab\"/></a>"
      ]
    },
    {
      "cell_type": "markdown",
      "source": [
        "**Colabga Driveni bog'laymiz**"
      ],
      "metadata": {
        "id": "ebWzacdBc9gp"
      }
    },
    {
      "cell_type": "code",
      "source": [
        "from google.colab import drive\n",
        "drive.mount('/content/drive')"
      ],
      "metadata": {
        "id": "6CgviIvSKASG"
      },
      "execution_count": null,
      "outputs": []
    },
    {
      "cell_type": "markdown",
      "source": [
        "**Drive .json file manzilini chaqirib olamiz**"
      ],
      "metadata": {
        "id": "sQpsJXtPdED3"
      }
    },
    {
      "cell_type": "code",
      "source": [
        "!gdown --id 1_UnVbXhgr0i0N73WtG0f8I-TPaawR4H9"
      ],
      "metadata": {
        "id": "rs5fDKQVI3an"
      },
      "execution_count": null,
      "outputs": []
    },
    {
      "cell_type": "markdown",
      "source": [
        ".json faylni to'g'ri manzilga joylashtiramiz"
      ],
      "metadata": {
        "id": "7fgIl7aHdOjQ"
      }
    },
    {
      "cell_type": "code",
      "source": [
        "import shutil\n",
        "import os\n",
        "\n",
        "#Kaggle API tokenini to'g'ri joyga joylashtirish\n",
        "os.makedirs('/root/.kaggle', exist_ok=True)\n",
        "shutil.move('kaggle.json', '/root/.kaggle/kaggle.json')\n",
        "\n",
        "#Ruxsatlarni o'zgartirish\n",
        "os.chmod('/root/.kaggle/kaggle.json', 600)\n",
        "\n",
        "print('Kaggle API sozlandi')"
      ],
      "metadata": {
        "id": "zxvZC8_uGU1K"
      },
      "execution_count": null,
      "outputs": []
    },
    {
      "cell_type": "markdown",
      "source": [
        "Datasetni chaqiramiz"
      ],
      "metadata": {
        "id": "WpYxvNtZdeJL"
      }
    },
    {
      "cell_type": "code",
      "source": [
        "!kaggle datasets download -d \"andrewmvd/face-mask-detection\""
      ],
      "metadata": {
        "id": "NFrP2aHiIKM6"
      },
      "execution_count": null,
      "outputs": []
    },
    {
      "cell_type": "markdown",
      "source": [
        "Datasetni zip dan chiqarib olamiz"
      ],
      "metadata": {
        "id": "lVPeKsY-dhS4"
      }
    },
    {
      "cell_type": "code",
      "source": [
        "import zipfile\n",
        "\n",
        "dataset_path='/content/face-mask-detection.zip'\n",
        "output_folder='/content/face-mask-dataset'\n",
        "\n",
        "#Zip faylni chiqarish\n",
        "with zipfile.ZipFile(dataset_path, 'r') as zip_ref:\n",
        "  zip_ref.extractall(output_folder)\n",
        "\n",
        "print(f\"Dataset {output_folder} papkasiga chiqarildi\")"
      ],
      "metadata": {
        "id": "-mpuK6aLKgkU"
      },
      "execution_count": null,
      "outputs": []
    },
    {
      "cell_type": "code",
      "source": [
        "data_path='/content/face-mask-dataset'\n",
        "\n",
        "print(os.listdir(data_path))"
      ],
      "metadata": {
        "id": "1lqzfUFDRxwV"
      },
      "execution_count": null,
      "outputs": []
    },
    {
      "cell_type": "code",
      "source": [
        "print(len(os.listdir('/content/face-mask-dataset/annotations')))\n",
        "print(len(os.listdir('/content/face-mask-dataset/images')))"
      ],
      "metadata": {
        "id": "qBz77_dBSGHs"
      },
      "execution_count": null,
      "outputs": []
    },
    {
      "cell_type": "code",
      "source": [
        "print(os.listdir('/content/face-mask-dataset/annotations'))"
      ],
      "metadata": {
        "id": "QDsPMQsKT7v8"
      },
      "execution_count": null,
      "outputs": []
    },
    {
      "cell_type": "code",
      "source": [
        "import os\n",
        "import xml.etree.ElementTree as ET\n",
        "annotations_path='/content/face-mask-dataset/annotations'\n",
        "class_counts={}\n",
        "\n",
        "#Barcha XML fayllarni o'qish\n",
        "for xml_file in os.listdir(annotations_path):\n",
        "  if xml_file.endswith('.xml'):\n",
        "    tree=ET.parse(os.path.join(annotations_path, xml_file))\n",
        "    root = tree.getroot()\n",
        "\n",
        "    for obj in root.findall('object'):\n",
        "      class_name=obj.find('name').text\n",
        "      class_counts[class_name] = class_counts.get(class_name, 0) + 1\n",
        "\n",
        "#Natijalarni chiqarish\n",
        "print('Annotatsiya natijalari: ')\n",
        "for class_name, count in class_counts.items():\n",
        "  print(f\"{class_name} {count} ta\")"
      ],
      "metadata": {
        "id": "uvGRiKr2VAAi"
      },
      "execution_count": null,
      "outputs": []
    },
    {
      "cell_type": "code",
      "source": [
        "import random\n",
        "\n",
        "# Ma'lumotlar yo‘llari\n",
        "annotations_path = '/content/face-mask-dataset/annotations'\n",
        "images_path = '/content/face-mask-dataset/images'\n",
        "\n",
        "train_path='/content/face-mask-dataset-split/train'\n",
        "test_path='/content/face-mask-dataset-split/test'\n",
        "\n",
        "os.makedirs(train_path, exist_ok=True)\n",
        "os.makedirs(test_path, exist_ok=True)\n",
        "\n",
        "\n",
        "for category in ['with_mask', 'without_mask']:\n",
        "  os.makedirs(os.path.join(train_path, category), exist_ok=True)\n",
        "  os.makedirs(os.path.join(test_path, category), exist_ok=True)\n",
        "\n",
        "#Fayllarni saqlash uchun lug'atlar\n",
        "data_by_class={'with_mask':[], 'without_mask':[]}\n",
        "\n",
        "#Annotatsiyalarni o'qish\n",
        "\n",
        "for xml_file in os.listdir(annotations_path):\n",
        "  if xml_file.endswith('.xml'):\n",
        "    tree=ET.parse(os.path.join(annotations_path, xml_file))\n",
        "    root=tree.getroot()\n",
        "    image_file=root.find('filename').text\n",
        "    image_path=os.path.join(images_path, image_file)\n",
        "\n",
        "\n",
        "    for obj in root.findall('object'):\n",
        "      class_name=obj.find('name').text\n",
        "      if class_name in data_by_class:\n",
        "        data_by_class[class_name].append(image_path)\n",
        "\n",
        "#Train va testlarga ajratish\n",
        "for class_name, images in data_by_class.items():\n",
        "  random.shuffle(images)\n",
        "  split_idx=int(len(images)*0.8)\n",
        "\n",
        "  train_files=images[:split_idx]\n",
        "  test_files=images[split_idx:]\n",
        "\n",
        "  #Fayllarni mos papkalarga ko'chiramiz\n",
        "  for img in train_files:\n",
        "    shutil.copy(img, os.path.join(train_path, class_name, os.path.basename(img)))\n",
        "\n",
        "  for img in test_files:\n",
        "    shutil.copy(img, os.path.join(test_path, class_name, os.path.basename(img)))\n",
        "\n",
        "print('Dataset train va test papkalariga ajratildi')"
      ],
      "metadata": {
        "id": "i4p6CKF3YLhu"
      },
      "execution_count": null,
      "outputs": []
    },
    {
      "cell_type": "code",
      "source": [
        "import tensorflow as tf\n",
        "from tensorflow.keras.preprocessing.image import ImageDataGenerator\n",
        "\n",
        "# Train va Test ma'lumotlari joylashgan papka\n",
        "train_dir='/content/face-mask-dataset-split/train'\n",
        "test_dir='/content/face-mask-dataset-split/test'\n",
        "\n",
        "#Tasvirni oldindan qayta ishlash\n",
        "train_datagen=ImageDataGenerator(\n",
        "    rescale=1./255,\n",
        "    rotation_range=20,\n",
        "    width_shift_range=0.2,\n",
        "    height_shift_range=0.2,\n",
        "    shear_range=0.2,\n",
        "    zoom_range=0.2,\n",
        "    horizontal_flip=True,\n",
        "    fill_mode='nearest'\n",
        ")\n",
        "\n",
        "test_datagen=ImageDataGenerator(rescale=1./255)\n",
        "\n",
        "#Tasvirlarni yuklash\n",
        "train_generator=train_datagen.flow_from_directory(\n",
        "    train_dir,\n",
        "    target_size=(128,128),\n",
        "    batch_size=32,\n",
        "    class_mode='binary'\n",
        ")\n",
        "\n",
        "test_generator=test_datagen.flow_from_directory(\n",
        "    test_dir,\n",
        "    target_size=(128,128),\n",
        "    batch_size=32,\n",
        "    class_mode='binary'\n",
        ")\n"
      ],
      "metadata": {
        "id": "bk72hflnYh7b"
      },
      "execution_count": null,
      "outputs": []
    },
    {
      "cell_type": "markdown",
      "source": [
        "**CNN model yaratish**"
      ],
      "metadata": {
        "id": "pgHquI73mLWh"
      }
    },
    {
      "cell_type": "code",
      "source": [
        "model=tf.keras.models.Sequential([\n",
        "    tf.keras.layers.Conv2D(32, (3,3), activation='relu', input_shape=(128, 128,3)),\n",
        "    tf.keras.layers.MaxPooling2D(2,2),\n",
        "\n",
        "    tf.keras.layers.Conv2D(64, (3,3), activation='relu'),\n",
        "    tf.keras.layers.MaxPooling2D(2,2),\n",
        "\n",
        "    tf.keras.layers.Conv2D(128, (3,3), activation='relu'),\n",
        "    tf.keras.layers.MaxPooling2D(2,2),\n",
        "\n",
        "    tf.keras.layers.Flatten(),\n",
        "    tf.keras.layers.Dense(128, activation='relu'),\n",
        "    tf.keras.layers.Dropout(0.5), #Overfitting oldini olish\n",
        "    tf.keras.layers.Dense(1, activation='sigmoid') #2 ta class  uchun  sigmoidal chiqish\n",
        "])\n",
        "\n",
        "#Modelni kompilyatsiya qilish\n",
        "model.compile(optimizer='adam',\n",
        "              loss='binary_crossentropy',\n",
        "              metrics=['accuracy'])\n",
        "\n",
        "#Model tuzilmasini chiqarish\n",
        "model.summary()"
      ],
      "metadata": {
        "id": "JwlZhKW5ig_6"
      },
      "execution_count": null,
      "outputs": []
    },
    {
      "cell_type": "markdown",
      "source": [
        "**Modelni train qilish**"
      ],
      "metadata": {
        "id": "Wv4fH0-IoXFx"
      }
    },
    {
      "cell_type": "code",
      "source": [
        "history=model.fit(\n",
        "    train_generator,\n",
        "    epochs=10,\n",
        "    validation_data=test_generator\n",
        ")"
      ],
      "metadata": {
        "id": "2be2zJcdoVkI"
      },
      "execution_count": null,
      "outputs": []
    },
    {
      "cell_type": "code",
      "source": [
        "test_loss, test_acc=model.evaluate(test_generator)\n",
        "print(f\"Test to'plamida aniqlik {test_acc*100:.2f}\")"
      ],
      "metadata": {
        "id": "edt7fJ_lsSLX"
      },
      "execution_count": null,
      "outputs": []
    },
    {
      "cell_type": "code",
      "source": [
        "model.save('face_mask_model.keras')\n",
        "print('Model saqlandi')"
      ],
      "metadata": {
        "id": "2MTSMLkTww9G"
      },
      "execution_count": null,
      "outputs": []
    },
    {
      "cell_type": "code",
      "source": [
        "!pip install opencv-python"
      ],
      "metadata": {
        "id": "VTVcFfxmtr4s"
      },
      "execution_count": null,
      "outputs": []
    },
    {
      "cell_type": "code",
      "source": [
        "import cv2\n",
        "import numpy as np\n",
        "\n",
        "#Modelni yuklash\n",
        "model=tf.keras.models.load_model('face_mask_model.keras')\n",
        "\n",
        "#Classlar\n",
        "classes=['With Mask', 'Without Mask']\n",
        "\n",
        "#Kamera ochamiz\n",
        "cap=cv2.VideoCapture(0)\n",
        "\n",
        "while True:\n",
        "  ret, frame=cap.read()\n",
        "  if not ret:\n",
        "    print(\"Kamerani ishga tushirib bo‘lmadi!\")\n",
        "    break\n",
        "\n",
        "  #Tasvirni oldindan tayyorlash\n",
        "  img=cv2.resize(frame, (128, 128))\n",
        "  img=img/255.0\n",
        "  img=np.expand_dims(img, axis=0)\n",
        "\n",
        "  #Model bilan bashorat qilish\n",
        "  prediction=model.predict(img)\n",
        "  label=classes[np.argmax(prediction)]\n",
        "\n",
        "  #Natijani ekranga chiqarish\n",
        "  cv2.putText(frame, label, (20,50), cv2.FONT_HERSHEY_SIMPLEX, 1 ,(0,255,0), 2)\n",
        "  cv2.imshow(\"Face Mask Detection\", frame)\n",
        "\n",
        "  #'q' tugmasi bosilsa dastur yopiladi\n",
        "  if cv2.waitKey(1) & 0xFF == ord('q'):\n",
        "    break\n",
        "\n",
        "cap.release()\n",
        "cv2.destroyAllWindows()"
      ],
      "metadata": {
        "id": "_H1Um7Aftr1Q"
      },
      "execution_count": null,
      "outputs": []
    },
    {
      "cell_type": "code",
      "source": [
        "import tensorflow as tf\n",
        "\n",
        "# Modelni yuklash\n",
        "model = tf.keras.models.load_model(\"face_mask_model.keras\")\n",
        "\n",
        "# Modelni qayta kompilyatsiya qilish\n",
        "model.compile(optimizer='adam', loss='binary_crossentropy', metrics=['accuracy'])\n",
        "\n",
        "print(\"Model qayta kompilyatsiya qilindi ✅\")"
      ],
      "metadata": {
        "id": "OScPuVvJxcCe"
      },
      "execution_count": null,
      "outputs": []
    },
    {
      "cell_type": "code",
      "source": [],
      "metadata": {
        "id": "mbDwVHQcy1Vq"
      },
      "execution_count": null,
      "outputs": []
    }
  ]
}